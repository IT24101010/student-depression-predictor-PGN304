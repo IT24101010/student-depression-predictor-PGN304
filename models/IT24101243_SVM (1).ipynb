{
 "cells": [
  {
   "cell_type": "code",
   "execution_count": 1,
   "id": "55216c5c-9bb6-49f6-a455-c8927e08309a",
   "metadata": {},
   "outputs": [],
   "source": [
    "# ===== Step 1: Import Libraries =====\n",
    "import pandas as pd\n",
    "import matplotlib.pyplot as plt\n",
    "import seaborn as sns\n",
    "from sklearn.svm import SVC\n",
    "from sklearn.metrics import accuracy_score, confusion_matrix, classification_report"
   ]
  },
  {
   "cell_type": "code",
   "execution_count": 3,
   "id": "cd7c58fa-543e-4143-9ac2-3009312377a8",
   "metadata": {},
   "outputs": [
    {
     "name": "stdout",
     "output_type": "stream",
     "text": [
      "✅ Data Loaded Successfully!\n",
      "Train shape: (17411, 12) | Test shape: (5581, 12)\n"
     ]
    }
   ],
   "source": [
    "# ==== Step 2: Load Preprocessed Data =====\n",
    "X_train = pd.read_csv(\"X_train_final.csv\")\n",
    "X_test = pd.read_csv(\"X_test_final.csv\")\n",
    "y_train = pd.read_csv(\"y_train_final.csv\").values.ravel()\n",
    "y_test = pd.read_csv(\"y_test_final.csv\").values.ravel()\n",
    "\n",
    "print(\"✅ Data Loaded Successfully!\")\n",
    "print(\"Train shape:\", X_train.shape, \"| Test shape:\", X_test.shape)"
   ]
  },
  {
   "cell_type": "code",
   "execution_count": 4,
   "id": "3c40e45c-16bd-441f-9e04-ffc48bce251f",
   "metadata": {},
   "outputs": [
    {
     "name": "stdout",
     "output_type": "stream",
     "text": [
      "\n",
      "🔹 Kernel: linear\n",
      "Accuracy: 0.8380\n",
      "[[1822  521]\n",
      " [ 383 2855]]\n",
      "              precision    recall  f1-score   support\n",
      "\n",
      "           0       0.83      0.78      0.80      2343\n",
      "           1       0.85      0.88      0.86      3238\n",
      "\n",
      "    accuracy                           0.84      5581\n",
      "   macro avg       0.84      0.83      0.83      5581\n",
      "weighted avg       0.84      0.84      0.84      5581\n",
      "\n",
      "\n",
      "🔹 Kernel: rbf\n",
      "Accuracy: 0.8249\n",
      "[[1870  473]\n",
      " [ 504 2734]]\n",
      "              precision    recall  f1-score   support\n",
      "\n",
      "           0       0.79      0.80      0.79      2343\n",
      "           1       0.85      0.84      0.85      3238\n",
      "\n",
      "    accuracy                           0.82      5581\n",
      "   macro avg       0.82      0.82      0.82      5581\n",
      "weighted avg       0.83      0.82      0.83      5581\n",
      "\n",
      "\n",
      "🔹 Kernel: poly\n",
      "Accuracy: 0.8323\n",
      "[[1795  548]\n",
      " [ 388 2850]]\n",
      "              precision    recall  f1-score   support\n",
      "\n",
      "           0       0.82      0.77      0.79      2343\n",
      "           1       0.84      0.88      0.86      3238\n",
      "\n",
      "    accuracy                           0.83      5581\n",
      "   macro avg       0.83      0.82      0.83      5581\n",
      "weighted avg       0.83      0.83      0.83      5581\n",
      "\n"
     ]
    }
   ],
   "source": [
    "# ===== Step 3: Try Different SVM Kernels =====\n",
    "kernels = ['linear', 'rbf', 'poly']\n",
    "accuracies = []\n",
    "\n",
    "for kernel in kernels:\n",
    "    model = SVC(kernel=kernel, C=1, gamma='scale')\n",
    "    model.fit(X_train, y_train)\n",
    "    y_pred = model.predict(X_test)\n",
    "    acc = accuracy_score(y_test, y_pred)\n",
    "    accuracies.append(acc)\n",
    "    print(f\"\\n🔹 Kernel: {kernel}\")\n",
    "    print(f\"Accuracy: {acc:.4f}\")\n",
    "    print(confusion_matrix(y_test, y_pred))\n",
    "    print(classification_report(y_test, y_pred))"
   ]
  },
  {
   "cell_type": "code",
   "execution_count": 5,
   "id": "37839b8f-eb6c-4e7d-8cc7-781bc34eb60b",
   "metadata": {},
   "outputs": [
    {
     "name": "stderr",
     "output_type": "stream",
     "text": [
      "C:\\Users\\LOQ\\AppData\\Local\\Temp\\ipykernel_3208\\3827245805.py:3: FutureWarning: \n",
      "\n",
      "Passing `palette` without assigning `hue` is deprecated and will be removed in v0.14.0. Assign the `x` variable to `hue` and set `legend=False` for the same effect.\n",
      "\n",
      "  sns.barplot(x=kernels, y=accuracies, palette='viridis')\n"
     ]
    },
    {
     "data": {
      "image/png": "[encoded data removed]",
      "text/plain": [
       "<Figure size 600x400 with 1 Axes>"
      ]
     },
     "metadata": {},
     "output_type": "display_data"
    }
   ],
   "source": [
    "# ===== Step 4: Visualization (Bar Chart) =====\n",
    "plt.figure(figsize=(6,4))\n",
    "sns.barplot(x=kernels, y=accuracies, palette='viridis')\n",
    "plt.title('SVM Accuracy Comparison Across Kernels')\n",
    "plt.xlabel('Kernel Type')\n",
    "plt.ylabel('Accuracy')\n",
    "plt.ylim(0, 1)\n",
    "plt.show()"
   ]
  },
  {
   "cell_type": "code",
   "execution_count": 6,
   "id": "14daa94f-2871-4aaa-a572-7174e7882743",
   "metadata": {},
   "outputs": [
    {
     "name": "stdout",
     "output_type": "stream",
     "text": [
      "\n",
      "✅ Best Kernel: linear with Accuracy: 0.8380\n"
     ]
    }
   ],
   "source": [
    "# ==== Step 5: Choose Best Model (Optional) =====\n",
    "best_kernel = kernels[accuracies.index(max(accuracies))]\n",
    "print(f\"\\n✅ Best Kernel: {best_kernel} with Accuracy: {max(accuracies):.4f}\")"
   ]
  },
  {
   "cell_type": "code",
   "execution_count": null,
   "id": "a1df8696-a18d-4b7b-af64-9c9557cdc808",
   "metadata": {},
   "outputs": [],
   "source": []
  }
 ],
 "metadata": {
  "kernelspec": {
   "display_name": "Python 3 (ipykernel)",
   "language": "python",
   "name": "python3"
  },
  "language_info": {
   "codemirror_mode": {
    "name": "ipython",
    "version": 3
   },
   "file_extension": ".py",
   "mimetype": "text/x-python",
   "name": "python",
   "nbconvert_exporter": "python",
   "pygments_lexer": "ipython3",
   "version": "3.13.7"
  }
 },
 "nbformat": 4,
 "nbformat_minor": 5
}
