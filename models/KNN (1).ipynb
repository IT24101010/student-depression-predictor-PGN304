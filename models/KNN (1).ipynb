{
 "cells": [
  {
   "cell_type": "code",
   "execution_count": 1,
   "id": "b4914b39-c7ff-4c56-afbb-274e2ea0fc87",
   "metadata": {},
   "outputs": [
    {
     "name": "stdout",
     "output_type": "stream",
     "text": [
      "Step 1 complete: All libraries imported.\n"
     ]
    }
   ],
   "source": [
    "# --- Step 1: Import Necessary Libraries ---\n",
    "\n",
    "import pandas as pd\n",
    "import numpy as np\n",
    "from sklearn.neighbors import KNeighborsClassifier\n",
    "from sklearn.metrics import accuracy_score, classification_report\n",
    "\n",
    "print(\"Step 1 complete: All libraries imported.\")"
   ]
  },
  {
   "cell_type": "code",
   "execution_count": 2,
   "id": "0df9dbe1-e41c-4b78-8fd8-cb055c28d7eb",
   "metadata": {},
   "outputs": [
    {
     "name": "stdout",
     "output_type": "stream",
     "text": [
      "Step 2 complete: All 4 data files loaded.\n",
      "x_train has 17411 rows.\n",
      "x_test has 5581 rows.\n"
     ]
    }
   ],
   "source": [
    "# --- Step 2: Load Your Datasets ---\n",
    "\n",
    "# We use pandas to read the CSV files\n",
    "# Make sure the .csv files are in the same folder as your notebook!\n",
    "\n",
    "x_train = pd.read_csv(\"X_train_final.csv\")\n",
    "y_train = pd.read_csv(\"y_train_final.csv\")\n",
    "x_test = pd.read_csv(\"X_test_final.csv\")\n",
    "y_test = pd.read_csv(\"y_test_final.csv\")\n",
    "\n",
    "print(\"Step 2 complete: All 4 data files loaded.\")\n",
    "print(\"x_train has\", x_train.shape[0], \"rows.\")\n",
    "print(\"x_test has\", x_test.shape[0], \"rows.\")"
   ]
  },
  {
   "cell_type": "code",
   "execution_count": 3,
   "id": "69928d82-d163-48e3-8aac-955db38b6684",
   "metadata": {},
   "outputs": [
    {
     "name": "stdout",
     "output_type": "stream",
     "text": [
      "Step 3 complete: y_train and y_test are reshaped.\n"
     ]
    }
   ],
   "source": [
    "# --- Step 3: Prepare the Target Variable (y) ---\n",
    "\n",
    "# .values.ravel() converts the pandas DataFrame column into the 1D array\n",
    "# that scikit-learn expects for the target.\n",
    "\n",
    "y_train_ravel = y_train.values.ravel()\n",
    "y_test_ravel = y_test.values.ravel()\n",
    "\n",
    "print(\"Step 3 complete: y_train and y_test are reshaped.\")"
   ]
  },
  {
   "cell_type": "code",
   "execution_count": 4,
   "id": "9f8c26b9-2ced-4032-ba4f-c56a16c2b85c",
   "metadata": {},
   "outputs": [
    {
     "name": "stdout",
     "output_type": "stream",
     "text": [
      "Training the KNN model with k=5...\n",
      "Step 4 complete: Model has been trained.\n"
     ]
    }
   ],
   "source": [
    "# --- Step 4: Initialize and Train the KNN Model ---\n",
    "\n",
    "# We will choose k=5. This is a common starting point for 'n_neighbors'.\n",
    "k = 5\n",
    "\n",
    "# Create an instance of the model\n",
    "knn = KNeighborsClassifier(n_neighbors=k)\n",
    "\n",
    "# 'fit' is the training command.\n",
    "# The model \"learns\" by memorizing the x_train features and their y_train answers.\n",
    "print(f\"Training the KNN model with k={k}...\")\n",
    "knn.fit(x_train, y_train_ravel)\n",
    "\n",
    "print(\"Step 4 complete: Model has been trained.\")"
   ]
  },
  {
   "cell_type": "code",
   "execution_count": 5,
   "id": "0f77235a-e745-4afe-84ee-03964fa06286",
   "metadata": {},
   "outputs": [
    {
     "name": "stdout",
     "output_type": "stream",
     "text": [
      "Making predictions on the test data...\n",
      "Step 5 complete: Predictions have been made and stored in 'y_pred'.\n"
     ]
    }
   ],
   "source": [
    "# --- Step 5: Make Predictions ---\n",
    "\n",
    "# We ask the trained model (knn) to predict the answers for the test set (x_test)\n",
    "print(\"Making predictions on the test data...\")\n",
    "y_pred = knn.predict(x_test)\n",
    "\n",
    "print(\"Step 5 complete: Predictions have been made and stored in 'y_pred'.\")"
   ]
  },
  {
   "cell_type": "code",
   "execution_count": 7,
   "id": "6c4e5e7d-df40-443d-80b1-46f184969306",
   "metadata": {},
   "outputs": [
    {
     "name": "stdout",
     "output_type": "stream",
     "text": [
      "--- Model Evaluation Results ---\n",
      "\n",
      "Overall Accuracy: 80.61%\n",
      "\n",
      "Detailed Classification Report:\n",
      "                         precision    recall  f1-score   support\n",
      "\n",
      "Class 0 (No Depression)       0.78      0.75      0.77      2343\n",
      "   Class 1 (Depression)       0.83      0.84      0.83      3238\n",
      "\n",
      "               accuracy                           0.81      5581\n",
      "              macro avg       0.80      0.80      0.80      5581\n",
      "           weighted avg       0.81      0.81      0.81      5581\n",
      "\n"
     ]
    }
   ],
   "source": [
    "# --- Step 6: Evaluate the Model and Show Results ---\n",
    "\n",
    "# Compare the model's predictions (y_pred) with the actual answers (y_test_ravel)\n",
    "accuracy = accuracy_score(y_test_ravel, y_pred)\n",
    "report = classification_report(y_test_ravel, y_pred, target_names=['Class 0 (No Depression)', 'Class 1 (Depression)'])\n",
    "\n",
    "# Print the final results\n",
    "print(\"--- Model Evaluation Results ---\")\n",
    "print(f\"\\nOverall Accuracy: {accuracy * 100:.2f}%\")\n",
    "print(\"\\nDetailed Classification Report:\")\n",
    "print(report)"
   ]
  },
  {
   "cell_type": "code",
   "execution_count": null,
   "id": "53e22466-a92f-47bb-a9b7-011c6e139110",
   "metadata": {},
   "outputs": [],
   "source": []
  }
 ],
 "metadata": {
  "kernelspec": {
   "display_name": "Python [conda env:base] *",
   "language": "python",
   "name": "conda-base-py"
  },
  "language_info": {
   "codemirror_mode": {
    "name": "ipython",
    "version": 3
   },
   "file_extension": ".py",
   "mimetype": "text/x-python",
   "name": "python",
   "nbconvert_exporter": "python",
   "pygments_lexer": "ipython3",
   "version": "3.13.5"
  }
 },
 "nbformat": 4,
 "nbformat_minor": 5
}
