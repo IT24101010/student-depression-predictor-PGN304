{
  "nbformat": 4,
  "nbformat_minor": 0,
  "metadata": {
    "colab": {
      "provenance": []
    },
    "kernelspec": {
      "name": "python3",
      "display_name": "Python 3"
    },
    "language_info": {
      "name": "python"
    }
  },
  "cells": [
    {
      "cell_type": "markdown",
      "source": [
        "# **Random Forest Model for Student Depression Prediction**\n",
        "\n",
        "**Author:** DE SILVA T H H D\n",
        "**Student ID:** IT24101010\n",
        "\n",
        "## 1. Introduction\n",
        "This notebook details the implementation, evaluation, and optimization of a **Random Forest Classifier** to predict the risk of depression in university students. The primary goal is to build a reliable model that can effectively identify at-risk students, with a specific focus on maximizing the **Recall** score to minimize missed cases.\n",
        "\n",
        "The workflow is structured as follows:\n",
        "1.  **Baseline Model:** A model is trained with default parameters to establish a performance benchmark.\n",
        "2.  **Hyperparameter Tuning:** `GridSearchCV` is used to systematically test multiple model varieties and find the optimal settings.\n",
        "3.  **Final Evaluation & Comparison:** The tuned model's performance is compared against the baseline to demonstrate and quantify the improvement."
      ],
      "metadata": {
        "id": "ApK7pokPqKB0"
      }
    },
    {
      "cell_type": "markdown",
      "source": [
        "## 2. Data Loading\n",
        "The pre-split training and testing datasets, which are the final output of our group's preprocessing pipeline, are loaded into memory. This ensures that the model is trained and evaluated on completely separate data."
      ],
      "metadata": {
        "id": "lNFD2tm_qofQ"
      }
    },
    {
      "cell_type": "code",
      "execution_count": 2,
      "metadata": {
        "id": "gpk5llZBbiEy"
      },
      "outputs": [],
      "source": [
        "import pandas as pd\n",
        "from sklearn.ensemble import RandomForestClassifier\n",
        "from sklearn.metrics import (\n",
        "    classification_report,\n",
        "    accuracy_score,\n",
        "    confusion_matrix,\n",
        "    roc_auc_score\n",
        ")\n",
        "import seaborn as sns\n",
        "import matplotlib.pyplot as plt"
      ]
    },
    {
      "cell_type": "code",
      "source": [
        "try:\n",
        "    # Load the feature sets for training and testing\n",
        "    X_train = pd.read_csv('X_train_final .csv')\n",
        "    X_test = pd.read_csv('X_test_final .csv')\n",
        "\n",
        "    # Load the target sets for training and testing\n",
        "    # Use .squeeze() to convert the single-column DataFrame to a pandas Series\n",
        "    y_train = pd.read_csv('y_train_final .csv').squeeze()\n",
        "    y_test = pd.read_csv('y_test_final .csv').squeeze()\n",
        "\n",
        "    print(\"✅ All four pre-split data files loaded successfully.\")\n",
        "    print(f\"Training data has {X_train.shape[0]} samples.\")\n",
        "    print(f\"Testing data has {X_test.shape[0]} samples.\")\n",
        "\n",
        "except FileNotFoundError as e:\n",
        "    print(f\"❌ Error loading data files: {e}.\")\n",
        "    exit()"
      ],
      "metadata": {
        "colab": {
          "base_uri": "https://localhost:8080/"
        },
        "id": "HdvU9v2scI4R",
        "outputId": "c9759db4-26da-4f7c-bfb6-c92ad15cd966"
      },
      "execution_count": 12,
      "outputs": [
        {
          "output_type": "stream",
          "name": "stdout",
          "text": [
            "✅ All four pre-split data files loaded successfully.\n",
            "Training data has 17411 samples.\n",
            "Testing data has 5581 samples.\n"
          ]
        }
      ]
    },
    {
      "cell_type": "markdown",
      "source": [
        "## 3. Phase 1: Baseline Model Implementation\n",
        "First, a baseline `RandomForestClassifier` is trained using its default scikit-learn parameters. This model serves as a crucial point of comparison to measure the effectiveness of our subsequent optimization efforts. The `random_state` is set to 42 for reproducibility."
      ],
      "metadata": {
        "id": "jvgsh24Fq4D_"
      }
    },
    {
      "cell_type": "code",
      "source": [
        "# Initialize the Random Forest model with default parameters\n",
        "baseline_model = RandomForestClassifier(random_state=42)\n",
        "\n",
        "# Train the model on the training data\n",
        "print(\"\\nTraining the baseline Random Forest model...\")\n",
        "baseline_model.fit(X_train, y_train)\n",
        "print(\"✅ Model training complete.\")"
      ],
      "metadata": {
        "colab": {
          "base_uri": "https://localhost:8080/"
        },
        "id": "ew8aieDaeBNj",
        "outputId": "5902a17c-fe9b-4109-8fb8-f9a1a889c2a0"
      },
      "execution_count": 4,
      "outputs": [
        {
          "output_type": "stream",
          "name": "stdout",
          "text": [
            "\n",
            "Training the baseline Random Forest model...\n",
            "✅ Model training complete.\n"
          ]
        }
      ]
    },
    {
      "cell_type": "markdown",
      "source": [
        "### Baseline Model Evaluation\n",
        "The baseline model is evaluated on the unseen test data. We will analyze a comprehensive set of metrics, but our primary focus is on **Recall** for the 'Depressed (1)' class. High recall is critical as it indicates the model's ability to correctly identify the majority of students who are truly at risk. The **Confusion Matrix** provides a visual breakdown of the model's correct and incorrect predictions."
      ],
      "metadata": {
        "id": "O4glB3RgrHpW"
      }
    },
    {
      "cell_type": "code",
      "source": [
        "# Use the trained model to make predictions on the test set\n",
        "print(\"\\nMaking predictions on the test data...\")\n",
        "y_pred_baseline = baseline_model.predict(X_test)\n",
        "\n",
        "# --- Model Evaluation ---\n",
        "print(\"\\n--- Baseline Random Forest Model Evaluation ---\")\n",
        "\n",
        "# 1. Accuracy\n",
        "accuracy = accuracy_score(y_test, y_pred_baseline)\n",
        "print(f\"Accuracy: {accuracy:.4f}\")\n",
        "\n",
        "# 2. ROC AUC Score\n",
        "roc_auc = roc_auc_score(y_test, y_pred_baseline)\n",
        "print(f\"ROC AUC Score: {roc_auc:.4f}\")\n",
        "\n",
        "# 3. Classification Report\n",
        "print(\"\\nClassification Report:\")\n",
        "print(classification_report(y_test, y_pred_baseline, target_names=['Not Depressed (0)', 'Depressed (1)']))\n",
        "\n",
        "# 4. Confusion Matrix\n",
        "print(\"\\nConfusion Matrix:\")\n",
        "cm = confusion_matrix(y_test, y_pred_baseline)\n",
        "plt.figure(figsize=(8, 6))\n",
        "sns.heatmap(cm, annot=True, fmt='d', cmap='Blues',\n",
        "            xticklabels=['Not Depressed', 'Depressed'],\n",
        "            yticklabels=['Not Depressed', 'Depressed'])\n",
        "plt.xlabel('Predicted Label')\n",
        "plt.ylabel('True Label')\n",
        "plt.title('Confusion Matrix for Baseline Random Forest')\n",
        "plt.show()"
      ],
      "metadata": {
        "id": "sGS3PjqpeMzC",
        "outputId": "d5bf96a6-538a-408e-c82e-41c5074398a1",
        "colab": {
          "base_uri": "https://localhost:8080/",
          "height": 910
        }
      },
      "execution_count": 5,
      "outputs": [
        {
          "output_type": "stream",
          "name": "stdout",
          "text": [
            "\n",
            "Making predictions on the test data...\n",
            "\n",
            "--- Baseline Random Forest Model Evaluation ---\n",
            "Accuracy: 0.8294\n",
            "ROC AUC Score: 0.8239\n",
            "\n",
            "Classification Report:\n",
            "                   precision    recall  f1-score   support\n",
            "\n",
            "Not Depressed (0)       0.80      0.79      0.80      2343\n",
            "    Depressed (1)       0.85      0.86      0.85      3238\n",
            "\n",
            "         accuracy                           0.83      5581\n",
            "        macro avg       0.83      0.82      0.82      5581\n",
            "     weighted avg       0.83      0.83      0.83      5581\n",
            "\n",
            "\n",
            "Confusion Matrix:\n"
          ]
        },
        {
          "output_type": "display_data",
          "data": {
            "text/plain": [
              "<Figure size 800x600 with 2 Axes>"
            ],
            "image/png": "[encoded data removed]"
          },
          "metadata": {}
        }
      ]
    },
    {
      "cell_type": "markdown",
      "source": [
        "## 4. Phase 2: Hyperparameter Tuning with GridSearchCV\n",
        "To improve upon the baseline, we perform hyperparameter tuning. `GridSearchCV` is used to exhaustively test 27 different \"varieties\" of the Random Forest model by searching through a grid of key parameters (`n_estimators`, `max_depth`, `min_samples_leaf`).\n",
        "\n",
        "**Key Configuration:**\n",
        "- **`cv=5`**: 5-fold cross-validation is used to ensure the performance score for each parameter combination is robust and reliable.\n",
        "- **`scoring='recall'`**: The grid search is explicitly instructed to find the parameter combination that yields the highest **Recall score**, directly aligning the optimization process with our project's primary goal."
      ],
      "metadata": {
        "id": "vXhoQI-rrWV8"
      }
    },
    {
      "cell_type": "code",
      "source": [
        "# Import the necessary libraries first\n",
        "from sklearn.model_selection import GridSearchCV\n",
        "import pandas as pd\n",
        "\n",
        "# 1. Define the grid of hyperparameters to search over\n",
        "# We are testing 3 x 3 x 3 = 27 different combinations. These are your \"model varieties\".\n",
        "param_grid = {\n",
        "    'n_estimators': [50, 100, 200],      # The number of trees in the forest\n",
        "    'max_depth': [10, 20, None],         # The maximum depth of the tree (None means nodes expand until pure)\n",
        "    'min_samples_leaf': [1, 2, 4]        # The minimum number of samples required to be at a leaf node\n",
        "}"
      ],
      "metadata": {
        "id": "P12frY5BGbea"
      },
      "execution_count": 7,
      "outputs": []
    },
    {
      "cell_type": "code",
      "source": [
        "# 2. Set up the GridSearchCV object\n",
        "# estimator: The model we are tuning.\n",
        "# param_grid: The dictionary of parameters we want to test.\n",
        "# cv=5: Use 5-fold cross-validation.\n",
        "# scoring='recall': The metric to determine the best model. We choose recall to prioritize finding at-risk students.\n",
        "# n_jobs=-1: Use all available CPU cores to speed up the process.\n",
        "# verbose=2: Print progress updates so you can see it working.\n",
        "grid_search = GridSearchCV(\n",
        "    estimator=RandomForestClassifier(random_state=42),\n",
        "    param_grid=param_grid,\n",
        "    cv=5,\n",
        "    scoring='recall',\n",
        "    n_jobs=-1,\n",
        "    verbose=2\n",
        ")\n",
        "\n",
        "# 3. Fit the grid search to the data\n",
        "# This will train and evaluate all 27 model varieties across 5 folds (27 * 5 = 135 model fits).\n",
        "print(\"\\nStarting hyperparameter tuning with GridSearchCV...\")\n",
        "grid_search.fit(X_train, y_train)\n",
        "print(\"✅ Hyperparameter tuning complete.\")\n",
        "\n",
        "# 4. Get the best model and its parameters\n",
        "print(\"\\n--- Hyperparameter Tuning Results ---\")\n",
        "print(f\"Best Parameters Found: {grid_search.best_params_}\")\n",
        "print(f\"Best Recall Score (from cross-validation): {grid_search.best_score_:.4f}\")\n",
        "\n",
        "# Save the best model found by the grid search\n",
        "best_rf_model = grid_search.best_estimator_"
      ],
      "metadata": {
        "id": "UpJzJt4dGrD5",
        "colab": {
          "base_uri": "https://localhost:8080/"
        },
        "outputId": "d5c9a834-543a-4098-d67d-3220ff22c5bb"
      },
      "execution_count": 8,
      "outputs": [
        {
          "output_type": "stream",
          "name": "stdout",
          "text": [
            "\n",
            "Starting hyperparameter tuning with GridSearchCV...\n",
            "Fitting 5 folds for each of 27 candidates, totalling 135 fits\n",
            "✅ Hyperparameter tuning complete.\n",
            "\n",
            "--- Hyperparameter Tuning Results ---\n",
            "Best Parameters Found: {'max_depth': 10, 'min_samples_leaf': 1, 'n_estimators': 200}\n",
            "Best Recall Score (from cross-validation): 0.8748\n"
          ]
        }
      ]
    },
    {
      "cell_type": "markdown",
      "source": [
        "## 5. Phase 3: Final Evaluation of the Tuned Model\n",
        "The best model identified by `GridSearchCV` is now evaluated on the same test set. We will calculate the same set of metrics to allow for a direct, data-driven comparison against the baseline model."
      ],
      "metadata": {
        "id": "ikmHKirBsF5d"
      }
    },
    {
      "cell_type": "code",
      "source": [
        "print(\"Making predictions with the tuned model...\")\n",
        "y_pred_tuned = best_rf_model.predict(X_test)\n",
        "print(\"✅ Predictions complete.\")"
      ],
      "metadata": {
        "id": "NruHWrYdKp3U",
        "colab": {
          "base_uri": "https://localhost:8080/"
        },
        "outputId": "24026c83-595f-426f-baff-a8c072c50f72"
      },
      "execution_count": 9,
      "outputs": [
        {
          "output_type": "stream",
          "name": "stdout",
          "text": [
            "Making predictions with the tuned model...\n",
            "✅ Predictions complete.\n"
          ]
        }
      ]
    },
    {
      "cell_type": "code",
      "source": [
        "# --- Tuned Random Forest Model Evaluation ---\n",
        "print(\"\\n--- Evaluation of the Tuned (Optimized) Random Forest Model ---\")\n",
        "\n",
        "# 1. Accuracy\n",
        "accuracy_tuned = accuracy_score(y_test, y_pred_tuned)\n",
        "print(f\"Accuracy: {accuracy_tuned:.4f}\")\n",
        "\n",
        "# 2. ROC AUC Score\n",
        "roc_auc_tuned = roc_auc_score(y_test, y_pred_tuned)\n",
        "print(f\"ROC AUC Score: {roc_auc_tuned:.4f}\")\n",
        "\n",
        "# 3. Classification Report (Detailed Breakdown)\n",
        "print(\"\\nClassification Report:\")\n",
        "print(classification_report(y_test, y_pred_tuned, target_names=['Not Depressed (0)', 'Depressed (1)']))\n",
        "\n",
        "# 4. Confusion Matrix (Visual Proof)\n",
        "print(\"\\nConfusion Matrix for Tuned Model:\")\n",
        "cm_tuned = confusion_matrix(y_test, y_pred_tuned)\n",
        "plt.figure(figsize=(8, 6))\n",
        "sns.heatmap(cm_tuned, annot=True, fmt='d', cmap='Blues',\n",
        "            xticklabels=['Not Depressed', 'Depressed'],\n",
        "            yticklabels=['Not Depressed', 'Depressed'])\n",
        "plt.xlabel('Predicted Label')\n",
        "plt.ylabel('True Label')\n",
        "plt.title('Confusion Matrix for Tuned Random Forest')\n",
        "plt.show()"
      ],
      "metadata": {
        "id": "M54KZGcqKp2c",
        "colab": {
          "base_uri": "https://localhost:8080/",
          "height": 874
        },
        "outputId": "b8c37e36-e737-42ee-fa26-eee3ca41e412"
      },
      "execution_count": 10,
      "outputs": [
        {
          "output_type": "stream",
          "name": "stdout",
          "text": [
            "\n",
            "--- Evaluation of the Tuned (Optimized) Random Forest Model ---\n",
            "Accuracy: 0.8359\n",
            "ROC AUC Score: 0.8294\n",
            "\n",
            "Classification Report:\n",
            "                   precision    recall  f1-score   support\n",
            "\n",
            "Not Depressed (0)       0.81      0.79      0.80      2343\n",
            "    Depressed (1)       0.85      0.87      0.86      3238\n",
            "\n",
            "         accuracy                           0.84      5581\n",
            "        macro avg       0.83      0.83      0.83      5581\n",
            "     weighted avg       0.84      0.84      0.84      5581\n",
            "\n",
            "\n",
            "Confusion Matrix for Tuned Model:\n"
          ]
        },
        {
          "output_type": "display_data",
          "data": {
            "text/plain": [
              "<Figure size 800x600 with 2 Axes>"
            ],
            "image/png": "[encoded data removed]"
          },
          "metadata": {}
        }
      ]
    },
    {
      "cell_type": "markdown",
      "source": [
        "## 6. Phase 4: Model Comparison & Final Conclusion\n",
        "Finally, we summarize the performance of the baseline and tuned models in a comparison table. This allows us to clearly see the impact of hyperparameter tuning. The conclusion will state which model is superior and why, based on our project's objective of maximizing the identification of at-risk students."
      ],
      "metadata": {
        "id": "_BIroVESsO5N"
      }
    },
    {
      "cell_type": "code",
      "source": [
        "# --- Comparison of Baseline vs. Tuned Model ---\n",
        "\n",
        "# First, let's get the baseline metrics again for a direct comparison\n",
        "accuracy_baseline = accuracy_score(y_test, y_pred_baseline)\n",
        "roc_auc_baseline = roc_auc_score(y_test, y_pred_baseline)\n",
        "\n",
        "# For recall, we need to extract it from the classification report or calculate it\n",
        "from sklearn.metrics import recall_score\n",
        "recall_baseline = recall_score(y_test, y_pred_baseline)\n",
        "recall_tuned = recall_score(y_test, y_pred_tuned)\n",
        "\n",
        "# Create a summary DataFrame for easy comparison\n",
        "comparison_data = {\n",
        "    'Metric': ['Accuracy', 'ROC AUC', 'Recall (for Depressed)'],\n",
        "    'Baseline Model': [accuracy_baseline, roc_auc_baseline, recall_baseline],\n",
        "    'Tuned Model': [accuracy_tuned, roc_auc_tuned, recall_tuned]\n",
        "}\n",
        "comparison_df = pd.DataFrame(comparison_data).set_index('Metric')\n",
        "\n",
        "print(\"\\n--- Performance Comparison: Baseline vs. Tuned Model ---\")\n",
        "display(comparison_df)\n",
        "\n",
        "print(\"\\n--- Conclusion ---\")\n",
        "if recall_tuned > recall_baseline:\n",
        "    print(\"The tuned model is significantly better. Hyperparameter tuning successfully improved our key metric, Recall.\")\n",
        "    print(\"This means the optimized model is more effective at identifying at-risk students, which was our primary goal.\")\n",
        "else:\n",
        "    print(\"The tuned model did not show significant improvement over the baseline based on our primary metric (Recall).\")"
      ],
      "metadata": {
        "id": "ZQ6FpcuVK8CS",
        "colab": {
          "base_uri": "https://localhost:8080/",
          "height": 279
        },
        "outputId": "3f18ac92-94e9-4dea-b32f-52fe02e42808"
      },
      "execution_count": null,
      "outputs": [
        {
          "output_type": "stream",
          "name": "stdout",
          "text": [
            "\n",
            "--- Performance Comparison: Baseline vs. Tuned Model ---\n"
          ]
        },
        {
          "output_type": "display_data",
          "data": {
            "text/plain": [
              "                        Baseline Model  Tuned Model\n",
              "Metric                                             \n",
              "Accuracy                      0.829421     0.835872\n",
              "ROC AUC                       0.823857     0.829357\n",
              "Recall (for Depressed)        0.858555     0.869981"
            ],
            "text/html": [
              "\n",
              "  <div id=\"df-926d6293-8cb4-4561-9597-26b992b958ca\" class=\"colab-df-container\">\n",
              "    <div>\n",
              "<style scoped>\n",
              "    .dataframe tbody tr th:only-of-type {\n",
              "        vertical-align: middle;\n",
              "    }\n",
              "\n",
              "    .dataframe tbody tr th {\n",
              "        vertical-align: top;\n",
              "    }\n",
              "\n",
              "    .dataframe thead th {\n",
              "        text-align: right;\n",
              "    }\n",
              "</style>\n",
              "<table border=\"1\" class=\"dataframe\">\n",
              "  <thead>\n",
              "    <tr style=\"text-align: right;\">\n",
              "      <th></th>\n",
              "      <th>Baseline Model</th>\n",
              "      <th>Tuned Model</th>\n",
              "    </tr>\n",
              "    <tr>\n",
              "      <th>Metric</th>\n",
              "      <th></th>\n",
              "      <th></th>\n",
              "    </tr>\n",
              "  </thead>\n",
              "  <tbody>\n",
              "    <tr>\n",
              "      <th>Accuracy</th>\n",
              "      <td>0.829421</td>\n",
              "      <td>0.835872</td>\n",
              "    </tr>\n",
              "    <tr>\n",
              "      <th>ROC AUC</th>\n",
              "      <td>0.823857</td>\n",
              "      <td>0.829357</td>\n",
              "    </tr>\n",
              "    <tr>\n",
              "      <th>Recall (for Depressed)</th>\n",
              "      <td>0.858555</td>\n",
              "      <td>0.869981</td>\n",
              "    </tr>\n",
              "  </tbody>\n",
              "</table>\n",
              "</div>\n",
              "    <div class=\"colab-df-buttons\">\n",
              "\n",
              "  <div class=\"colab-df-container\">\n",
              "    <button class=\"colab-df-convert\" onclick=\"convertToInteractive('df-926d6293-8cb4-4561-9597-26b992b958ca')\"\n",
              "            title=\"Convert this dataframe to an interactive table.\"\n",
              "            style=\"display:none;\">\n",
              "\n",
              "  <svg xmlns=\"http://www.w3.org/2000/svg\" height=\"24px\" viewBox=\"0 -960 960 960\">\n",
              "    <path d=\"M120-120v-720h720v720H120Zm60-500h600v-160H180v160Zm220 220h160v-160H400v160Zm0 220h160v-160H400v160ZM180-400h160v-160H180v160Zm440 0h160v-160H620v160ZM180-180h160v-160H180v160Zm440 0h160v-160H620v160Z\"/>\n",
              "  </svg>\n",
              "    </button>\n",
              "\n",
              "  <style>\n",
              "    .colab-df-container {\n",
              "      display:flex;\n",
              "      gap: 12px;\n",
              "    }\n",
              "\n",
              "    .colab-df-convert {\n",
              "      background-color: #E8F0FE;\n",
              "      border: none;\n",
              "      border-radius: 50%;\n",
              "      cursor: pointer;\n",
              "      display: none;\n",
              "      fill: #1967D2;\n",
              "      height: 32px;\n",
              "      padding: 0 0 0 0;\n",
              "      width: 32px;\n",
              "    }\n",
              "\n",
              "    .colab-df-convert:hover {\n",
              "      background-color: #E2EBFA;\n",
              "      box-shadow: 0px 1px 2px rgba(60, 64, 67, 0.3), 0px 1px 3px 1px rgba(60, 64, 67, 0.15);\n",
              "      fill: #174EA6;\n",
              "    }\n",
              "\n",
              "    .colab-df-buttons div {\n",
              "      margin-bottom: 4px;\n",
              "    }\n",
              "\n",
              "    [theme=dark] .colab-df-convert {\n",
              "      background-color: #3B4455;\n",
              "      fill: #D2E3FC;\n",
              "    }\n",
              "\n",
              "    [theme=dark] .colab-df-convert:hover {\n",
              "      background-color: #434B5C;\n",
              "      box-shadow: 0px 1px 3px 1px rgba(0, 0, 0, 0.15);\n",
              "      filter: drop-shadow(0px 1px 2px rgba(0, 0, 0, 0.3));\n",
              "      fill: #FFFFFF;\n",
              "    }\n",
              "  </style>\n",
              "\n",
              "    <script>\n",
              "      const buttonEl =\n",
              "        document.querySelector('#df-926d6293-8cb4-4561-9597-26b992b958ca button.colab-df-convert');\n",
              "      buttonEl.style.display =\n",
              "        google.colab.kernel.accessAllowed ? 'block' : 'none';\n",
              "\n",
              "      async function convertToInteractive(key) {\n",
              "        const element = document.querySelector('#df-926d6293-8cb4-4561-9597-26b992b958ca');\n",
              "        const dataTable =\n",
              "          await google.colab.kernel.invokeFunction('convertToInteractive',\n",
              "                                                    [key], {});\n",
              "        if (!dataTable) return;\n",
              "\n",
              "        const docLinkHtml = 'Like what you see? Visit the ' +\n",
              "          '<a target=\"_blank\" href=https://colab.research.google.com/notebooks/data_table.ipynb>data table notebook</a>'\n",
              "          + ' to learn more about interactive tables.';\n",
              "        element.innerHTML = '';\n",
              "        dataTable['output_type'] = 'display_data';\n",
              "        await google.colab.output.renderOutput(dataTable, element);\n",
              "        const docLink = document.createElement('div');\n",
              "        docLink.innerHTML = docLinkHtml;\n",
              "        element.appendChild(docLink);\n",
              "      }\n",
              "    </script>\n",
              "  </div>\n",
              "\n",
              "\n",
              "    <div id=\"df-e56daaf3-f91d-4da9-81d1-c6c44098e28d\">\n",
              "      <button class=\"colab-df-quickchart\" onclick=\"quickchart('df-e56daaf3-f91d-4da9-81d1-c6c44098e28d')\"\n",
              "                title=\"Suggest charts\"\n",
              "                style=\"display:none;\">\n",
              "\n",
              "<svg xmlns=\"http://www.w3.org/2000/svg\" height=\"24px\"viewBox=\"0 0 24 24\"\n",
              "     width=\"24px\">\n",
              "    <g>\n",
              "        <path d=\"M19 3H5c-1.1 0-2 .9-2 2v14c0 1.1.9 2 2 2h14c1.1 0 2-.9 2-2V5c0-1.1-.9-2-2-2zM9 17H7v-7h2v7zm4 0h-2V7h2v10zm4 0h-2v-4h2v4z\"/>\n",
              "    </g>\n",
              "</svg>\n",
              "      </button>\n",
              "\n",
              "<style>\n",
              "  .colab-df-quickchart {\n",
              "      --bg-color: #E8F0FE;\n",
              "      --fill-color: #1967D2;\n",
              "      --hover-bg-color: #E2EBFA;\n",
              "      --hover-fill-color: #174EA6;\n",
              "      --disabled-fill-color: #AAA;\n",
              "      --disabled-bg-color: #DDD;\n",
              "  }\n",
              "\n",
              "  [theme=dark] .colab-df-quickchart {\n",
              "      --bg-color: #3B4455;\n",
              "      --fill-color: #D2E3FC;\n",
              "      --hover-bg-color: #434B5C;\n",
              "      --hover-fill-color: #FFFFFF;\n",
              "      --disabled-bg-color: #3B4455;\n",
              "      --disabled-fill-color: #666;\n",
              "  }\n",
              "\n",
              "  .colab-df-quickchart {\n",
              "    background-color: var(--bg-color);\n",
              "    border: none;\n",
              "    border-radius: 50%;\n",
              "    cursor: pointer;\n",
              "    display: none;\n",
              "    fill: var(--fill-color);\n",
              "    height: 32px;\n",
              "    padding: 0;\n",
              "    width: 32px;\n",
              "  }\n",
              "\n",
              "  .colab-df-quickchart:hover {\n",
              "    background-color: var(--hover-bg-color);\n",
              "    box-shadow: 0 1px 2px rgba(60, 64, 67, 0.3), 0 1px 3px 1px rgba(60, 64, 67, 0.15);\n",
              "    fill: var(--button-hover-fill-color);\n",
              "  }\n",
              "\n",
              "  .colab-df-quickchart-complete:disabled,\n",
              "  .colab-df-quickchart-complete:disabled:hover {\n",
              "    background-color: var(--disabled-bg-color);\n",
              "    fill: var(--disabled-fill-color);\n",
              "    box-shadow: none;\n",
              "  }\n",
              "\n",
              "  .colab-df-spinner {\n",
              "    border: 2px solid var(--fill-color);\n",
              "    border-color: transparent;\n",
              "    border-bottom-color: var(--fill-color);\n",
              "    animation:\n",
              "      spin 1s steps(1) infinite;\n",
              "  }\n",
              "\n",
              "  @keyframes spin {\n",
              "    0% {\n",
              "      border-color: transparent;\n",
              "      border-bottom-color: var(--fill-color);\n",
              "      border-left-color: var(--fill-color);\n",
              "    }\n",
              "    20% {\n",
              "      border-color: transparent;\n",
              "      border-left-color: var(--fill-color);\n",
              "      border-top-color: var(--fill-color);\n",
              "    }\n",
              "    30% {\n",
              "      border-color: transparent;\n",
              "      border-left-color: var(--fill-color);\n",
              "      border-top-color: var(--fill-color);\n",
              "      border-right-color: var(--fill-color);\n",
              "    }\n",
              "    40% {\n",
              "      border-color: transparent;\n",
              "      border-right-color: var(--fill-color);\n",
              "      border-top-color: var(--fill-color);\n",
              "    }\n",
              "    60% {\n",
              "      border-color: transparent;\n",
              "      border-right-color: var(--fill-color);\n",
              "    }\n",
              "    80% {\n",
              "      border-color: transparent;\n",
              "      border-right-color: var(--fill-color);\n",
              "      border-bottom-color: var(--fill-color);\n",
              "    }\n",
              "    90% {\n",
              "      border-color: transparent;\n",
              "      border-bottom-color: var(--fill-color);\n",
              "    }\n",
              "  }\n",
              "</style>\n",
              "\n",
              "      <script>\n",
              "        async function quickchart(key) {\n",
              "          const quickchartButtonEl =\n",
              "            document.querySelector('#' + key + ' button');\n",
              "          quickchartButtonEl.disabled = true;  // To prevent multiple clicks.\n",
              "          quickchartButtonEl.classList.add('colab-df-spinner');\n",
              "          try {\n",
              "            const charts = await google.colab.kernel.invokeFunction(\n",
              "                'suggestCharts', [key], {});\n",
              "          } catch (error) {\n",
              "            console.error('Error during call to suggestCharts:', error);\n",
              "          }\n",
              "          quickchartButtonEl.classList.remove('colab-df-spinner');\n",
              "          quickchartButtonEl.classList.add('colab-df-quickchart-complete');\n",
              "        }\n",
              "        (() => {\n",
              "          let quickchartButtonEl =\n",
              "            document.querySelector('#df-e56daaf3-f91d-4da9-81d1-c6c44098e28d button');\n",
              "          quickchartButtonEl.style.display =\n",
              "            google.colab.kernel.accessAllowed ? 'block' : 'none';\n",
              "        })();\n",
              "      </script>\n",
              "    </div>\n",
              "\n",
              "  <div id=\"id_6e01cede-dbe3-4e9a-9d07-0f532658865a\">\n",
              "    <style>\n",
              "      .colab-df-generate {\n",
              "        background-color: #E8F0FE;\n",
              "        border: none;\n",
              "        border-radius: 50%;\n",
              "        cursor: pointer;\n",
              "        display: none;\n",
              "        fill: #1967D2;\n",
              "        height: 32px;\n",
              "        padding: 0 0 0 0;\n",
              "        width: 32px;\n",
              "      }\n",
              "\n",
              "      .colab-df-generate:hover {\n",
              "        background-color: #E2EBFA;\n",
              "        box-shadow: 0px 1px 2px rgba(60, 64, 67, 0.3), 0px 1px 3px 1px rgba(60, 64, 67, 0.15);\n",
              "        fill: #174EA6;\n",
              "      }\n",
              "\n",
              "      [theme=dark] .colab-df-generate {\n",
              "        background-color: #3B4455;\n",
              "        fill: #D2E3FC;\n",
              "      }\n",
              "\n",
              "      [theme=dark] .colab-df-generate:hover {\n",
              "        background-color: #434B5C;\n",
              "        box-shadow: 0px 1px 3px 1px rgba(0, 0, 0, 0.15);\n",
              "        filter: drop-shadow(0px 1px 2px rgba(0, 0, 0, 0.3));\n",
              "        fill: #FFFFFF;\n",
              "      }\n",
              "    </style>\n",
              "    <button class=\"colab-df-generate\" onclick=\"generateWithVariable('comparison_df')\"\n",
              "            title=\"Generate code using this dataframe.\"\n",
              "            style=\"display:none;\">\n",
              "\n",
              "  <svg xmlns=\"http://www.w3.org/2000/svg\" height=\"24px\"viewBox=\"0 0 24 24\"\n",
              "       width=\"24px\">\n",
              "    <path d=\"M7,19H8.4L18.45,9,17,7.55,7,17.6ZM5,21V16.75L18.45,3.32a2,2,0,0,1,2.83,0l1.4,1.43a1.91,1.91,0,0,1,.58,1.4,1.91,1.91,0,0,1-.58,1.4L9.25,21ZM18.45,9,17,7.55Zm-12,3A5.31,5.31,0,0,0,4.9,8.1,5.31,5.31,0,0,0,1,6.5,5.31,5.31,0,0,0,4.9,4.9,5.31,5.31,0,0,0,6.5,1,5.31,5.31,0,0,0,8.1,4.9,5.31,5.31,0,0,0,12,6.5,5.46,5.46,0,0,0,6.5,12Z\"/>\n",
              "  </svg>\n",
              "    </button>\n",
              "    <script>\n",
              "      (() => {\n",
              "      const buttonEl =\n",
              "        document.querySelector('#id_6e01cede-dbe3-4e9a-9d07-0f532658865a button.colab-df-generate');\n",
              "      buttonEl.style.display =\n",
              "        google.colab.kernel.accessAllowed ? 'block' : 'none';\n",
              "\n",
              "      buttonEl.onclick = () => {\n",
              "        google.colab.notebook.generateWithVariable('comparison_df');\n",
              "      }\n",
              "      })();\n",
              "    </script>\n",
              "  </div>\n",
              "\n",
              "    </div>\n",
              "  </div>\n"
            ],
            "application/vnd.google.colaboratory.intrinsic+json": {
              "type": "dataframe",
              "variable_name": "comparison_df",
              "summary": "{\n  \"name\": \"comparison_df\",\n  \"rows\": 3,\n  \"fields\": [\n    {\n      \"column\": \"Metric\",\n      \"properties\": {\n        \"dtype\": \"string\",\n        \"num_unique_values\": 3,\n        \"samples\": [\n          \"Accuracy\",\n          \"ROC AUC\",\n          \"Recall (for Depressed)\"\n        ],\n        \"semantic_type\": \"\",\n        \"description\": \"\"\n      }\n    },\n    {\n      \"column\": \"Baseline Model\",\n      \"properties\": {\n        \"dtype\": \"number\",\n        \"std\": 0.018635316211222643,\n        \"min\": 0.823856930491177,\n        \"max\": 0.8585546633724521,\n        \"num_unique_values\": 3,\n        \"samples\": [\n          0.8294212506719226,\n          0.823856930491177,\n          0.8585546633724521\n        ],\n        \"semantic_type\": \"\",\n        \"description\": \"\"\n      }\n    },\n    {\n      \"column\": \"Tuned Model\",\n      \"properties\": {\n        \"dtype\": \"number\",\n        \"std\": 0.021818460334166172,\n        \"min\": 0.8293569322047168,\n        \"max\": 0.8699814700432366,\n        \"num_unique_values\": 3,\n        \"samples\": [\n          0.8358717075792869,\n          0.8293569322047168,\n          0.8699814700432366\n        ],\n        \"semantic_type\": \"\",\n        \"description\": \"\"\n      }\n    }\n  ]\n}"
            }
          },
          "metadata": {}
        },
        {
          "output_type": "stream",
          "name": "stdout",
          "text": [
            "\n",
            "--- Conclusion ---\n",
            "The tuned model is significantly better. Hyperparameter tuning successfully improved our key metric, Recall.\n",
            "This means the optimized model is more effective at identifying at-risk students, which was our primary goal.\n"
          ]
        }
      ]
    }
  ]
}